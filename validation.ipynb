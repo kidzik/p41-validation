{
 "cells": [
  {
   "cell_type": "code",
   "execution_count": 1,
   "metadata": {
    "collapsed": false
   },
   "outputs": [],
   "source": [
    "joints_sag = [1362.31,1117.4,0.894312,1282.62,1294.69,0.753097,1255.9,1303.6,0.883882,1238.18,1578.69,0.950246,1318.34,1800.59,0.918339,1300.29,1277.06,0.647569,1318.43,1525.68,0.0543962,0,0,0,1264.94,1791.52,0.637017,1238.71,2154.99,0.762272,1238.34,2501.29,0.774948,1308.98,1765.07,0.557253,1247.45,2146.3,0.62875,1273.8,2412.56,0.528429,1309.29,1099.5,0.967306,1371.19,1090.95,0.984759,1229.92,1117.71,0.918166,0,0,0]\n",
    "joints_front = [1194,576.555,0.858189,1176.7,878.385,0.91238,893.654,887.262,0.836292,822.959,1330.62,0.843959,875.518,1711.75,0.88508,1459.36,877.635,0.825592,1582.99,1294.82,0.887691,1556.65,1667.59,0.865607,1026.06,1667.71,0.69284,1087.54,2190.94,0.790852,1078.94,2660.99,0.772193,1379.95,1667.46,0.699698,1379.92,2208.37,0.857721,1397.75,2651.95,0.813125,1132.12,523.118,0.909947,1238.91,523.22,0.95329,1026.34,576.565,0.908427,1309.35,567.498,0.76184]\n",
    "joints_sit = [1238.7,1179.65,0.873469,1389.05,1392.71,0.803723,1432.95,1383.66,0.710428,1309.03,1507.9,0.131065,0,0,0,1379.84,1436.7,0.87166,1326.91,1729.75,0.880975,1203.04,1942.32,0.87597,1379.96,1862.6,0.48263,919.878,1898.04,0.252038,893.359,2270.54,0.271476,1317.91,1880.74,0.64776,893.67,1898,0.859356,893.614,2297.23,0.750308,0,0,0,1291.2,1214.87,0.970597,0,0,0,1353.19,1232.66,0.969325]\n",
    "\n",
    "part2name = [\n",
    "\t(0,  \"Nose\"),\n",
    "\t(1,  \"Neck\"),\n",
    "\t(2,  \"RShoulder\"),\n",
    "\t(3,  \"RElbow\"),\n",
    "\t(4,  \"RWrist\"),\n",
    "\t(5,  \"LShoulder\"),\n",
    "\t(6,  \"LElbow\"),\n",
    "\t(7,  \"LWrist\"),\n",
    "\t(8,  \"RHip\"),\n",
    "\t(9,  \"RKnee\"),\n",
    "\t(10, \"RAnkle\"),\n",
    "\t(11, \"LHip\"),\n",
    "\t(12, \"LKnee\"),\n",
    "\t(13, \"LAnkle\"),\n",
    "\t(14, \"REye\"),\n",
    "\t(15, \"LEye\"),\n",
    "\t(16, \"REar\"),\n",
    "\t(17, \"LEar\"),\n",
    "\t(18, \"Bkg\"),\n",
    "]\n",
    "name2part = [(y,x) for (x,y) in part2name]\n",
    "name2part_dict = dict(name2part)\n",
    "\n",
    "def get_point(name, joints):\n",
    "    return joints[3*name2part_dict[name]:3*name2part_dict[name]+2]"
   ]
  },
  {
   "cell_type": "code",
   "execution_count": 2,
   "metadata": {
    "collapsed": false
   },
   "outputs": [
    {
     "name": "stdout",
     "output_type": "stream",
     "text": [
      "90.0\n",
      "45.0\n",
      "45.0\n"
     ]
    }
   ],
   "source": [
    "import math\n",
    "\n",
    "def findAngle(p0,p1,p2):\n",
    "    a = math.pow(p1[0]-p0[0],2) + math.pow(p1[1]-p0[1],2)\n",
    "    b = math.pow(p1[0]-p2[0],2) + math.pow(p1[1]-p2[1],2)\n",
    "    c = math.pow(p2[0]-p0[0],2) + math.pow(p2[1]-p0[1],2)\n",
    "    return math.degrees(math.acos( (a+b-c) / math.sqrt(4*a*b) ))\n",
    "\n",
    "## Some basic tests of findAngle\n",
    "print(findAngle( (1,0),(0,0),(0,1) ))\n",
    "print(findAngle( (1,1),(0,0),(0,1) ))\n",
    "print(findAngle( (1,1),(1,-1),(0,0) ))"
   ]
  },
  {
   "cell_type": "code",
   "execution_count": 3,
   "metadata": {
    "collapsed": false
   },
   "outputs": [
    {
     "name": "stdout",
     "output_type": "stream",
     "text": [
      "175.933592915\n",
      "92.3378031981\n"
     ]
    }
   ],
   "source": [
    "## Saggital plane, standing, knee flexion\n",
    "print(findAngle(get_point(\"RHip\", joints_sag),\n",
    "    get_point(\"RKnee\", joints_sag),\n",
    "    get_point(\"RAnkle\", joints_sag)))\n",
    "\n",
    "## Saggital plane, sitting, knee flexion\n",
    "print(findAngle(get_point(\"LHip\", joints_sit),\n",
    "    get_point(\"LKnee\", joints_sit),\n",
    "    get_point(\"LAnkle\", joints_sit)))"
   ]
  }
 ],
 "metadata": {
  "anaconda-cloud": {},
  "kernelspec": {
   "display_name": "Python [conda root]",
   "language": "python",
   "name": "conda-root-py"
  },
  "language_info": {
   "codemirror_mode": {
    "name": "ipython",
    "version": 2
   },
   "file_extension": ".py",
   "mimetype": "text/x-python",
   "name": "python",
   "nbconvert_exporter": "python",
   "pygments_lexer": "ipython2",
   "version": "2.7.12"
  }
 },
 "nbformat": 4,
 "nbformat_minor": 1
}
